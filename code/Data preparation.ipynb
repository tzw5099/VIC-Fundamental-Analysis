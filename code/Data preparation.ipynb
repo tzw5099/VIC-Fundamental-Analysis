{
 "cells": [
  {
   "cell_type": "markdown",
   "metadata": {},
   "source": [
    "## 1. Setup"
   ]
  },
  {
   "cell_type": "markdown",
   "metadata": {},
   "source": [
    "### 1.1 Environment/Imports"
   ]
  },
  {
   "cell_type": "code",
   "execution_count": 51,
   "metadata": {
    "collapsed": false
   },
   "outputs": [],
   "source": [
    "import pandas as pd\n",
    "import numpy as np\n",
    "from datetime import datetime\n",
    "from nltk import clean_html, SnowballStemmer, PorterStemmer\n",
    "from nltk.stem.lancaster import LancasterStemmer\n",
    "from nltk.stem import WordNetLemmatizer\n",
    "from nltk.tokenize import word_tokenize, sent_tokenize\n",
    "from nltk.corpus import stopwords\n",
    "import re"
   ]
  },
  {
   "cell_type": "markdown",
   "metadata": {},
   "source": [
    "### 1.2 Read in data"
   ]
  },
  {
   "cell_type": "code",
   "execution_count": 52,
   "metadata": {
    "collapsed": false
   },
   "outputs": [
    {
     "data": {
      "text/html": [
       "<div>\n",
       "<table border=\"1\" class=\"dataframe\">\n",
       "  <thead>\n",
       "    <tr style=\"text-align: right;\">\n",
       "      <th></th>\n",
       "      <th>Author</th>\n",
       "      <th>Author link</th>\n",
       "      <th>Description</th>\n",
       "      <th>Idea</th>\n",
       "      <th>Idea URL</th>\n",
       "      <th>Long</th>\n",
       "      <th>Performance</th>\n",
       "      <th>Quality</th>\n",
       "      <th>Submission Date</th>\n",
       "      <th>Rating Date</th>\n",
       "      <th>...</th>\n",
       "      <th>One Year Index Price</th>\n",
       "      <th>Two Year Index Price</th>\n",
       "      <th>Industry</th>\n",
       "      <th>PE</th>\n",
       "      <th>Psales</th>\n",
       "      <th>PFCF</th>\n",
       "      <th>EV</th>\n",
       "      <th>MKT</th>\n",
       "      <th>Country</th>\n",
       "      <th>ROIC</th>\n",
       "    </tr>\n",
       "  </thead>\n",
       "  <tbody>\n",
       "    <tr>\n",
       "      <th>0</th>\n",
       "      <td>coda516</td>\n",
       "      <td>/member/coda516/11034</td>\n",
       "      <td>\\nDescription\\nRule #1 is “Never Lose Money.” ...</td>\n",
       "      <td>1-800-Contacts</td>\n",
       "      <td>https://valueinvestorsclub.com/idea/1-800-Cont...</td>\n",
       "      <td>True</td>\n",
       "      <td>NaN</td>\n",
       "      <td>5.7</td>\n",
       "      <td>2006-11-06</td>\n",
       "      <td>2006-11-20</td>\n",
       "      <td>...</td>\n",
       "      <td>1439.70</td>\n",
       "      <td>806.58</td>\n",
       "      <td>Catalog/Specialty Distribution</td>\n",
       "      <td>NaN</td>\n",
       "      <td>0.813072</td>\n",
       "      <td>NaN</td>\n",
       "      <td>216.083200</td>\n",
       "      <td>191.964398</td>\n",
       "      <td>United States</td>\n",
       "      <td>-6.276761</td>\n",
       "    </tr>\n",
       "    <tr>\n",
       "      <th>1</th>\n",
       "      <td>Den1200</td>\n",
       "      <td>/member/Den1200/31058</td>\n",
       "      <td>\\nDescription\\nI recommend the purchase of BRK...</td>\n",
       "      <td>BERKSHIRE HATHAWAY</td>\n",
       "      <td>https://valueinvestorsclub.com/idea/BERKSHIRE_...</td>\n",
       "      <td>True</td>\n",
       "      <td>3.9</td>\n",
       "      <td>2.6</td>\n",
       "      <td>2016-08-23</td>\n",
       "      <td>2016-09-06</td>\n",
       "      <td>...</td>\n",
       "      <td>2208.73</td>\n",
       "      <td>2208.73</td>\n",
       "      <td>Financial Conglomerates</td>\n",
       "      <td>13.999246</td>\n",
       "      <td>1.632202</td>\n",
       "      <td>20.436016</td>\n",
       "      <td>398776.915475</td>\n",
       "      <td>367130.543924</td>\n",
       "      <td>United States</td>\n",
       "      <td>7.381747</td>\n",
       "    </tr>\n",
       "    <tr>\n",
       "      <th>1</th>\n",
       "      <td>piggybanker</td>\n",
       "      <td>/member/piggybanker/31371</td>\n",
       "      <td>\\nDescription\\n\\nWe believe that the stock of ...</td>\n",
       "      <td>1-800-FLOWERS.COM</td>\n",
       "      <td>https://valueinvestorsclub.com/idea/1-800-FLOW...</td>\n",
       "      <td>True</td>\n",
       "      <td>4.3</td>\n",
       "      <td>4.0</td>\n",
       "      <td>2013-10-16</td>\n",
       "      <td>2013-10-30</td>\n",
       "      <td>...</td>\n",
       "      <td>1994.65</td>\n",
       "      <td>2079.36</td>\n",
       "      <td>Internet Retail</td>\n",
       "      <td>25.253501</td>\n",
       "      <td>0.452324</td>\n",
       "      <td>117.987542</td>\n",
       "      <td>401.664760</td>\n",
       "      <td>141.107958</td>\n",
       "      <td>United States</td>\n",
       "      <td>9.552421</td>\n",
       "    </tr>\n",
       "    <tr>\n",
       "      <th>2</th>\n",
       "      <td>ahnuld</td>\n",
       "      <td>/member/ahnuld/63009</td>\n",
       "      <td>\\nDescription\\nI know this idea was posted les...</td>\n",
       "      <td>QHR CORP</td>\n",
       "      <td>https://valueinvestorsclub.com/idea/QHR_CORP/1...</td>\n",
       "      <td>True</td>\n",
       "      <td>NaN</td>\n",
       "      <td>NaN</td>\n",
       "      <td>2016-08-23</td>\n",
       "      <td>2016-09-06</td>\n",
       "      <td>...</td>\n",
       "      <td>2208.73</td>\n",
       "      <td>2208.73</td>\n",
       "      <td>Information Technology Services</td>\n",
       "      <td>497.435897</td>\n",
       "      <td>3.232550</td>\n",
       "      <td>19.339538</td>\n",
       "      <td>146.158744</td>\n",
       "      <td>162.485049</td>\n",
       "      <td>Canada</td>\n",
       "      <td>3.322161</td>\n",
       "    </tr>\n",
       "    <tr>\n",
       "      <th>2</th>\n",
       "      <td>shoon1022</td>\n",
       "      <td>/member/shoon1022/23813</td>\n",
       "      <td>\\nDescription\\n \\nAt $2.80, FLWS has an enterp...</td>\n",
       "      <td>1-800-FLOWERS.COM</td>\n",
       "      <td>https://valueinvestorsclub.com/idea/1-800-FLOW...</td>\n",
       "      <td>True</td>\n",
       "      <td>3.4</td>\n",
       "      <td>3.8</td>\n",
       "      <td>2011-02-20</td>\n",
       "      <td>2011-03-06</td>\n",
       "      <td>...</td>\n",
       "      <td>1364.33</td>\n",
       "      <td>1539.79</td>\n",
       "      <td>Internet Retail</td>\n",
       "      <td>NaN</td>\n",
       "      <td>0.268181</td>\n",
       "      <td>NaN</td>\n",
       "      <td>217.280800</td>\n",
       "      <td>75.961198</td>\n",
       "      <td>United States</td>\n",
       "      <td>-0.393029</td>\n",
       "    </tr>\n",
       "  </tbody>\n",
       "</table>\n",
       "<p>5 rows × 30 columns</p>\n",
       "</div>"
      ],
      "text/plain": [
       "        Author                Author link  \\\n",
       "0      coda516      /member/coda516/11034   \n",
       "1      Den1200      /member/Den1200/31058   \n",
       "1  piggybanker  /member/piggybanker/31371   \n",
       "2       ahnuld       /member/ahnuld/63009   \n",
       "2    shoon1022    /member/shoon1022/23813   \n",
       "\n",
       "                                         Description                Idea  \\\n",
       "0  \\nDescription\\nRule #1 is “Never Lose Money.” ...      1-800-Contacts   \n",
       "1  \\nDescription\\nI recommend the purchase of BRK...  BERKSHIRE HATHAWAY   \n",
       "1  \\nDescription\\n\\nWe believe that the stock of ...   1-800-FLOWERS.COM   \n",
       "2  \\nDescription\\nI know this idea was posted les...            QHR CORP   \n",
       "2  \\nDescription\\n \\nAt $2.80, FLWS has an enterp...   1-800-FLOWERS.COM   \n",
       "\n",
       "                                            Idea URL  Long  Performance  \\\n",
       "0  https://valueinvestorsclub.com/idea/1-800-Cont...  True          NaN   \n",
       "1  https://valueinvestorsclub.com/idea/BERKSHIRE_...  True          3.9   \n",
       "1  https://valueinvestorsclub.com/idea/1-800-FLOW...  True          4.3   \n",
       "2  https://valueinvestorsclub.com/idea/QHR_CORP/1...  True          NaN   \n",
       "2  https://valueinvestorsclub.com/idea/1-800-FLOW...  True          3.4   \n",
       "\n",
       "   Quality Submission Date Rating Date    ...    One Year Index Price  \\\n",
       "0      5.7      2006-11-06  2006-11-20    ...                 1439.70   \n",
       "1      2.6      2016-08-23  2016-09-06    ...                 2208.73   \n",
       "1      4.0      2013-10-16  2013-10-30    ...                 1994.65   \n",
       "2      NaN      2016-08-23  2016-09-06    ...                 2208.73   \n",
       "2      3.8      2011-02-20  2011-03-06    ...                 1364.33   \n",
       "\n",
       "  Two Year Index Price                         Industry          PE    Psales  \\\n",
       "0               806.58   Catalog/Specialty Distribution         NaN  0.813072   \n",
       "1              2208.73          Financial Conglomerates   13.999246  1.632202   \n",
       "1              2079.36                  Internet Retail   25.253501  0.452324   \n",
       "2              2208.73  Information Technology Services  497.435897  3.232550   \n",
       "2              1539.79                  Internet Retail         NaN  0.268181   \n",
       "\n",
       "         PFCF             EV            MKT        Country      ROIC  \n",
       "0         NaN     216.083200     191.964398  United States -6.276761  \n",
       "1   20.436016  398776.915475  367130.543924  United States  7.381747  \n",
       "1  117.987542     401.664760     141.107958  United States  9.552421  \n",
       "2   19.339538     146.158744     162.485049         Canada  3.322161  \n",
       "2         NaN     217.280800      75.961198  United States -0.393029  \n",
       "\n",
       "[5 rows x 30 columns]"
      ]
     },
     "execution_count": 52,
     "metadata": {},
     "output_type": "execute_result"
    }
   ],
   "source": [
    "dbase = '../assets/FULL DB VALUES.xlsx'\n",
    "data = pd.read_excel(dbase, sheet='Sheet1')\n",
    "\n",
    "data.head()"
   ]
  },
  {
   "cell_type": "markdown",
   "metadata": {},
   "source": [
    "## 2. Data cleaning"
   ]
  },
  {
   "cell_type": "code",
   "execution_count": 53,
   "metadata": {
    "collapsed": false
   },
   "outputs": [],
   "source": [
    "del data['Author link']\n",
    "del data['Idea']\n",
    "del data['Idea URL']\n",
    "del data['Two Year Date']\n",
    "del data['Two Year Index Price']\n",
    "del data['Two Year Price']"
   ]
  },
  {
   "cell_type": "code",
   "execution_count": 54,
   "metadata": {
    "collapsed": false
   },
   "outputs": [],
   "source": [
    "data['Submission Date'] = pd.to_datetime(data['Submission Date'])\n",
    "data['One Year Date'] = pd.to_datetime(data['One Year Date'])"
   ]
  },
  {
   "cell_type": "markdown",
   "metadata": {},
   "source": [
    "### 2.1 Text cleaning/pre-processing"
   ]
  },
  {
   "cell_type": "code",
   "execution_count": 55,
   "metadata": {
    "collapsed": true
   },
   "outputs": [],
   "source": [
    "\"\"\"\n",
    "Preprocessing text and html (Tokenizing words and sentences, clean HTML, clean text, removing stopwords, stemming and lemmatization)\n",
    "__author__ : Triskelion user@Kaggle (Thanks: Abhishek Thakur & Foxtrot user@Kaggle)\n",
    "\"\"\"\n",
    "\n",
    "# Tokenizing (Document to list of sentences. Sentence to list of words.)\n",
    "def tokenize(str):\n",
    "    '''Tokenizes into sentences, then strips punctuation/abbr, converts to lowercase and tokenizes words'''\n",
    "    return     [word_tokenize(\" \".join(re.findall(r'\\w+', t,flags = re.UNICODE | re.LOCALE)).lower()) \n",
    "            for t in sent_tokenize(str.replace(\"'\", \"\"))]\n",
    "\n",
    "#Removing stopwords. Takes list of words, outputs list of words.\n",
    "def remove_stopwords(l_words, lang='english'):\n",
    "    l_stopwords = stopwords.words(lang)\n",
    "    content = [w for w in l_words if w.lower() not in l_stopwords]\n",
    "    return content\n",
    "        \n",
    "#Clean HTML / strip tags TODO: remove page boilerplate (find main content), support email, pdf(?)\n",
    "def html2text(str):\n",
    "    return clean_html(str)\n",
    "        \n",
    "#Stem all words with stemmer of type, return encoded as \"encoding\"\n",
    "def stemming(words_l, type=\"PorterStemmer\", lang=\"english\", encoding=\"utf8\"):\n",
    "    supported_stemmers = [\"PorterStemmer\",\"SnowballStemmer\",\"LancasterStemmer\",\"WordNetLemmatizer\"]\n",
    "    if type is False or type not in supported_stemmers:\n",
    "        return words_l\n",
    "    else:\n",
    "        l = []\n",
    "        if type == \"PorterStemmer\":\n",
    "            stemmer = PorterStemmer()\n",
    "            for word in words_l:\n",
    "                l.append(stemmer.stem(word).encode(encoding))\n",
    "        if type == \"SnowballStemmer\":\n",
    "            stemmer = SnowballStemmer(lang)\n",
    "            for word in words_l:\n",
    "                l.append(stemmer.stem(word).encode(encoding))\n",
    "        if type == \"LancasterStemmer\":\n",
    "            stemmer = LancasterStemmer()\n",
    "            for word in words_l:\n",
    "                l.append(stemmer.stem(word).encode(encoding))\n",
    "        if type == \"WordNetLemmatizer\": #TODO: context\n",
    "            wnl = WordNetLemmatizer()\n",
    "            for word in words_l:\n",
    "                l.append(wnl.lemmatize(word).encode(encoding))\n",
    "        return l\n",
    "\n",
    "#The preprocess pipeline. Returns as lists of tokens or as string. If stemmer_type = False or not supported then no stemming.        \n",
    "def preprocess_pipeline(str, lang=\"english\", stemmer_type=\"PorterStemmer\", return_as_str=False, \n",
    "                        do_remove_stopwords=False, do_clean_html=False):\n",
    "    l = []\n",
    "    words = []\n",
    "    if do_clean_html:\n",
    "        sentences = tokenize(html2text(str))\n",
    "    else:\n",
    "        sentences = tokenize(str)\n",
    "    for sentence in sentences:\n",
    "        if do_remove_stopwords:\n",
    "            words = remove_stopwords(sentence, lang)\n",
    "        else:\n",
    "            words = sentence\n",
    "        words = stemming(words, stemmer_type)\n",
    "        if return_as_str:\n",
    "            l.append(\" \".join(words))\n",
    "        else:\n",
    "            l.append(words)\n",
    "    if return_as_str:\n",
    "        return \" \".join(l)\n",
    "    else:\n",
    "        return l"
   ]
  },
  {
   "cell_type": "code",
   "execution_count": 57,
   "metadata": {
    "collapsed": false,
    "scrolled": true
   },
   "outputs": [],
   "source": [
    "data['Description'] = data['Description'].map(lambda x: x[12:].rstrip())\n",
    "data['WordNet Desc'] = data['Description'].apply(lambda x: preprocess_pipeline(x, \n",
    "                                                                               stemmer_type='WordNetLemmatizer',\n",
    "                                                                               do_remove_stopwords=True))\n"
   ]
  },
  {
   "cell_type": "markdown",
   "metadata": {},
   "source": [
    "### 2.2 Create other features"
   ]
  },
  {
   "cell_type": "code",
   "execution_count": 58,
   "metadata": {
    "collapsed": false
   },
   "outputs": [],
   "source": [
    "#add relative market returns (Stock performance - index performance)\n",
    "data['Year Return'] = (data['One Year Price']/data['Rating Price']) - 1\n",
    "data['Year Index Return'] = (data['One Year Index Price']/data['Rating Index Price']) - 1\n",
    "data['Outperformance'] = data['Year Return'] - data['Year Index Return']\n",
    "\n",
    "#add length of write-up\n",
    "data['Desc length'] = data['Description'].map(lambda x: len(x))\n",
    "\n",
    "#add logged valuation metrics\n",
    "def log_data(Series):\n",
    "    data['log'+Series] = data[Series].map(lambda x: np.log(x))\n",
    "    \n",
    "log_data('PE')\n",
    "log_data('Psales')\n",
    "log_data('PFCF')\n",
    "log_data('MKT')\n",
    "log_data('EV')\n",
    "log_data('ROIC')\n",
    "\n",
    "#remove non-priced securities\n",
    "data = data[data['Outperformance'].notnull()]\n",
    "data.fillna(0,inplace=True) ##LOOK FOR BEST WAY TO FILL MISSING DATA!!!"
   ]
  },
  {
   "cell_type": "code",
   "execution_count": 59,
   "metadata": {
    "collapsed": false
   },
   "outputs": [],
   "source": [
    "#add market cap categories\n",
    "bins = [0,800,8000,data['MKT'].max()]\n",
    "names = ['Small Cap','Medium Cap','Large Cap']\n",
    "data['MKT_category'] = pd.cut(data['MKT'], bins, labels=names)"
   ]
  },
  {
   "cell_type": "code",
   "execution_count": 60,
   "metadata": {
    "collapsed": false
   },
   "outputs": [],
   "source": [
    "#sentiment feature\n",
    "from textblob import TextBlob\n",
    "data['Sentiment_polarity'] = data['Description'].map(lambda x: TextBlob(x).sentiment.polarity)\n",
    "data['Sentiment_subjectivity'] = data['Description'].map(lambda x: TextBlob(x).sentiment.subjectivity)"
   ]
  },
  {
   "cell_type": "markdown",
   "metadata": {},
   "source": [
    "### 2.3 Create target classifier"
   ]
  },
  {
   "cell_type": "code",
   "execution_count": 61,
   "metadata": {
    "collapsed": true
   },
   "outputs": [],
   "source": [
    "#add market return classifier\n",
    "#0 if underperformed market, 1 if outperformed market\n",
    "def market_binary(x):\n",
    "    if x <= 0:\n",
    "        return 0\n",
    "    elif x > 0:\n",
    "        return 1\n",
    "    else:\n",
    "        return np.nan\n",
    "\n",
    "data['Outperformed'] = data['Outperformance'].apply(market_binary)"
   ]
  },
  {
   "cell_type": "code",
   "execution_count": 62,
   "metadata": {
    "collapsed": true
   },
   "outputs": [
    {
     "name": "stderr",
     "output_type": "stream",
     "text": [
      "c:\\users\\jrose\\anaconda2\\lib\\site-packages\\xlsxwriter\\worksheet.py:836: UserWarning: Ignoring URL 'http://www.MGMb.com/)%20because%20the%20stock%20has%2072%25%20upside%20and%2016%25%20downside,%20a%20risk/reward%20ratio%20of%20better%20than%20four%20to%20one. %20MGMb%20(Metro%20Goldwin%20Mayer)%20is%20a%20so-called%20mini-major%20movie%20studio%20that%20produces%20a%20handful%20of%20films%20each%20year%20and%20maintains%20no%20physical%20production%20facilities.%20The%20company%20also%20makes%20TV%20projects,%20owns%20the%20MGM%20cable%20network,%20and%20a%2019%25%20interest%20in%20the%20EPIX%20cable%20network. %20In%20addition,%20MGMb%20owns%20a%20content%20library%20that%20includes%204,100%20movies%20and%2010,000%20TV%20episodes. %20The%20content%20library,%20TV%20production%20and%20EPIX%20each%20add%20stability%20to%20lumpy%20profits%20from%20the%20movie%20business.%20The%20studio%20was%20formed%20in%201924%20and%20releases%20film%20and%20television%20content%20under%20Metro-Goldwyn-Mayer,%20United%20Artists%20and%20Orion%20Pictures,%20respectively.%20Today,%20MGMb%20has%20a%2075/25%20partnership%20with%20Sony%20on%20the%20James%20Bond%20franchise,%20and%20a%2050/50%20partnership%20on%20The%20Hobbit%20trilogy.\n",
      "In%20July%202012,%20MGMb%20filed%20a%20private%20S-1%20under%20the%20Jobs%20Act.%20No%20word%20yet%20on%20the%20timing%20of%20an%20IPO,%20but%20on%209/13/13,%20management%20adopted%20a%20poison%20pill%20and%20announced%20a%20$75mm%20buyback.  %20Each%20quarter%20the%20company%20posts%20recent%20financials%20to%20its%20web%20site%20and%20hosts%20a%20conference%20call.%20Management%20then%20removes%20the%20prior%20quarter%20financials%20and%20the%20replay%20of%20the%20previous%20call.\n",
      "Background\n",
      "Kirk%20Kerkorian%20has%20bought%20and%20sold%20the%20studio%20numerous%20times%20over%20the%20past%20thirty%20years. %20The%20company%20filed%20and%20then%20emerged%20from%20a%20pre-packaged%20bankruptcy%20in%202010. %20The%202010%20reorganization%20followed%20Kerkorian’s%202004%20sale%20of%20MGMb%20for%20$5bn%20to%20an%20LBO%20consortium%20backed%20by%20Sony,%20Comcast,%20TPG%20and%20Providence%20Equity%20Partners.%20While%20the%20company%20was%20in%20Chapter%2011,%20Carl%20Icahn%20made%20two%20separate%20(rebuffed)%20offers%20to%20buy%20up%20MGMb%20debt%20in%20order%20to%20merge%20with%20LionsGate.%20Icahn%20was%20also%20a%20major%20shareholder%20of%20MGMb%20until%20around%20the%20time%20of%20the%20S-1%20filing,%20when%20he%20sold%20his%20stake%20back%20to%20the%20company%20for%20$590mm.\n",
      "Today,%20Highland%20Capital%20and%20Anchorage%20Capital%20each%20own%20over%2010%25%20of%20the%20company%20and%20have%20two%20of%20the%20seven%20board%20seats. %20Bloomberg%20reported%20last%20month%20that%20Third%20Point%20(Dan%20Loeb)%20had%20become%20a%20top%20five%20holder.%20See%20the%20most%20recent%20NYT%20article%20on%20MGMb%20for%20additional%20background%20(http://www.nytimes.com/2013/09/09/business/media/latest-overhaul-of-the-MGMb-studio-appears-to-be-a-moneymaker.html?pagewanted=all&_r=0).\n",
      "Valuation\n",
      "MGMb%20has%2058.2mm%20fully%20diluted%20shares%20outstanding%20at%20$55.00/share%20for%20a%20market%20cap%20of%20$3.2bn.  %20Net%20debt%20is%20negative%20$44mm%20($97mm%20debt%20-%20$141mm%20cash)%20and%20so%20TEV%20is%20$3,156mm.%20In%20addition,%20MGMb%20has%20$600mm%20of%20federal%20NOL%20and%20$700mm%20of%20California%20State%20NOL. %20If%20we%20convert%20the%20NOL%20to%20its%20present%20cash%20value%20we%20can%20subtract%20that%20amount%20from%20TEV.%20So%20$600mm%20x%2035%25%20tax%20rate%20=%20$210mm%20tax%20credit%20and%20$700mm%20x%2010%25%20state%20tax%20rate%20=%20$70mm%20tax%20credit,%20or%20$280mm%20cash%20value%20on%20a%20combined%20basis. %20To%20be%20conservative%20we%20can%20discount%20$280mm%20by%20roughly%201/3,%20leaving%20$200mm. %20Adjusted%20TEV%20would%20then%20be%20$3,153mm%20-%20$200mm%20=%20$2,956mm,%20call%20it%20$3bn.\n",
      "MGMb%20generated%20$286mm%20of%20EBITDA%20in%202012A%20and%20management%20has%20guided%20to%20a%20high%20single%20digit%20increase%20in%202013,%20so%20at%20just%20shy%20of%209%25%20growth,%202013E%20EBITDA%20would%20be%20$310mm.%20LTM%20EBITDA%20was%20$383mm%20because%20of%20a%20boost%20from%20the%20theatrical%20release%20of%20Skyfall%20in%204Q12%20and%20The%20Hobbit%20in%201Q13.\n",
      "Today%20the%20stock%20trades%20today%20at%20$3bn/$310mm%20=%20or%209.6x%202013E%20EBITDA%20(technically%20$2,956mm/$310mm%20=%209.5x). %20If%20MGMb%20priced%20at%2017x,%20in%20line%20with%20its%20closest%20peer,%20LionsGate,%20the%20shares%20would%20be%20worth%20$95. %20If%20MGMb%20were%20to%20continue%20to%20trade%20on%20the%20same%209.5x%20but%20missed%20$50mm%20of%20forecast%20EBITDA%20because%20of%20a%20cinematic%20flop%20(and%20added%20$50mm%20of%20leverage),%20then%20the%20stock%20would%20be%20worth%20$46%20(-16%25).%20Given%20the%207.5x%20discount%20between%20MGMb%20and%20its%20peer%20it’s%20difficult%20to%20make%20a%20multiple%20contraction%20argument,%20so%20I’ve%20chosen%20to%20think%20about%20the%20downside%20in%20terms%20of%20leverage%20and%20the%20major%20uncertainty%20surrounding%20any%20movie%20business%20–%20box%20office%20success.\n",
      "EBITDA%20and%20Free%20Cash%20Flow%20are%20similar%20here%20business%20because%20the%20company%20has%20no%20net%20debt,%20limited%20cash%20taxes%20and%20little%20or%20no%20capex%20requirement.%20For%20example,%20capex%20was%20less%20than%201mm%20both%20the%20first%20half%20of%20this%20year%20and%20in%20the%20first%20half%20of%20the%20prior%20year%20period.\n",
      "Film%20Production\n",
      "Six%20‘major’%20studios%20produce%2010-30%20films%20per%20year,%20and%20account%20for%20an%20estimated%2090%25%20of%20gross%20domestic%20film%20rentals.%20MGMb,%20as%20mentioned%20earlier,%20seeks%20to%20produce%20only%20a%20handful%20of%20films,%20and%20has%20co-production%20arrangements%20with%20Sony,%20New%20Line/Warner%20Brothers,%20and%20Paramount%20respectively.\n",
      "To%20produce%20a%20blockbuster%20film%20requires%20$100mm-$250mm%20on%20average.%20Iron%20Man%203%20and%20John%20Carter%20(neither%20were%20MGMb%20pictures)%20serve%20as%20reasonable%20case%20studies. %20Iron%20Man%203%20had%20a%20$200mm%20production%20budget%20and%20generated%20$1.2bn%20globally%20at%20the%20box%20office.%20John%20Carter,%20however,%20cost%20$250mm%20and%20Disney%20had%20to%20take%20a%20$117mm%20write%20down.%20Aside%20from%20having%20negative%20net%20debt,%20MGMb%20has%20$750mm%20available%20under%20an%20undrawn%20revolver%20facility%20and%20so%20has%20plenty%20of%20capital%20to%20selectively%20finance/co-finance%20projects.\n",
      "Gary%20Barber%20(CEO)%20grew%20up%20on%20the%20production%20accounting%20side%20of%20the%20business%20and%20enjoyed%20tremendous%20success%20as%20co-founder%20of%20Spyglass%20pictures%20before%20being%20asked%20to%20run%20MGMb%20(http://www.filmbug.com/db/344022).%20Barber%20prefers%20what%20he%20considers%20lower%20risk-projects%20and%20likes%20to%20bring%20in%20a%20financial%20partner%20to%20protect%20the%20balance%20sheet.\n",
      "During%20the%20balance%20of%202013%20MGMb%20will%20release%20the%20second%20installment%20of%20The%20Hobbit%20(opening%2012/13/13)%20and%20the%20remake%20of%20Stephen%20King’s%20Carrie.%20In%202014,%20the%20studio%20will%20release%20the%20third%20Hobbit%20movie,%20the%20remakes%20of%20Robocop%20and%20Poltergeist,%20and%20the%20sequel%20to%2021%20Jump%20Street%20(Jonah%20Hill/Channing%20Tatum).%20Also%20in%202014%20MGMb%20will%20release%20the%20story%20of%20Hercules,%20featuring%20action%20star%20Dwayne%20Johnson.%20The%20next%20James%20Bond%20film%20is%20planned%20for%20release%20in%202015,%20after%20which%20Sony’s%20contractual%20rights%20to%20any%20new%20Bond%20movies%20expire.\n",
      "It’s%20not%20accidental,%20given%20the%20CEO’s%20conservative%20strategy,%20that%20the%202014%20slate%20includes%20a%20franchise%20film%20(The%20Hobbit),%20two%20remakes%20of%20existing%20commercial%20successes,%20an%20inexpensive%20comedy%20sequel%20and%20a%20universally%20known%20myth%20likely%20to%20translate%20well%20abroad%20(and%20featuring%20a%20star%20with%20box%20office%20appeal).\n",
      "Film%20Library%20&%20EPIX\n",
      "The%20company’s%20film%20and%20television%20library%20generates%20EBITDA%20of%20roughly%20$200mm,%20again,%20with%20little%20or%20no%20capital%20spending%20requirement,%20so%20on%20say%208x%20the%20library%20accounts%20for%20$1.6bn%20of%20the%20value%20of%20the%20$3bn%20equity%20value.%20If%20the%20movie%20business%20went%20away%20the%20library%20would%20eventually%20degrade%20and%20would%20lack%20the%20ability%20to%20bundle%20old%20films%20with%20new%20(matched%20sets%20DVD%20of%20The%20Hobbit,%20James%20Bond%20anniversary%20editions%20etc.).%20So,%20the%20library%20is%20more%20valuable%20when%20attached%20to%20the%20production%20business.\n",
      "Income%20from%20the%20EPIX%20cable%20channel%20is%20not%20part%20of%20EBITDA,%20but%20rather%20equity%20income. %20MGMb%20records%20approximately%20$20mm%20a%20year%20from%20EPIX%20and%20as%20a%2019%25%20holder%20that%20implies%20overall%20net%20income%20of%20roughly%20$105mm. %20Cable%20channels%20such%20as%20SNI,%20DISCA,%20STRZA%20and%20AMCX%20trade%2015-20x%20earnings.%20So,%20EPIX%20should%20be%20worth%20$1.5-2.0bn,%20and%20MGMb’s%2019%25%20stake%20should%20be%20worth%20$285-$385mm%20or%20$4.90-$6.53%20per%20share.%20So,%20to%20be%20conservative%20let’s%20say%20it%20worth%20$300mm,%20or%20about%20$5.00/share.\n",
      "So,%20from%20a%20fundamental%20perspective%202/3%20of%20the%20value%20of%20the%20company%20comes%20from%20relatively%20stable%20sources%20($1.6bn%20library%20+%20$300mm%20EPIX%20=%20$1.9bn,%20and%20$1.9bn/$3bn%20=%2063%25,%20or%20just%20shy%20of%202/3).\n",
      "TV%20Production\n",
      "MGMb%20currently%20produces%20Vikings%20on%20the%20discovery%20channel%20and%20Teen%20Wolf,%20now%20in%20its%20third%20season%20on%20MTV.%20Content%20creators%20such%20as%20MGMb%20enjoy%20a%20secular%20tailwind%20because%20cable%20channels%20understand%20that%20the%20key%20to%20higher%20affiliate%20fees%20rests%20with%20having%20a%20show%20people%20see%20as%20a%20must%20have%20(Boardwalk%20Empire%20on%20HBO,%20Homeland%20on%20Showtime,%20Mad%20Men%20on%20AMC,%20House%20of%20Cards%20on%20Netflix%20etc..).\n",
      "In%20a%20TV%20contract,%20the%20acquiring%20network%20pays%20for%20the%20cost%20of%20the%20production%20of%20a%20pilot%20episode.%20If%20they%20like%20what%20they%20see,%20then%20the%20buyer%20pays%20for%20the%20series%20ratably%20over%20time.%20Unlike%20feature%20film%20investment%20and%20financing,%20there%20is%20minimal%20speculative%20capital%20risk%20to%20MGMb%20when%20it%20creates%20and%20sells%20a%20TV%20series.\n",
      "Management%20Incentive\n",
      "Insiders%20have%209.7mm%20options%20(of%2012.9mm%20available%20in%20the%20plan)%20with%20struck%20at%20an%20average%20price%20of%20$37/share.%20Options%20immediately%20vest%20upon%20a%20change%20of%20control.  %20So,%20management%20is%20already%20(($55-$37)%20x%209.7mm)%20=%20$174.6mm%20in%20the%20money%20in%20the%20event%20of%20a%20sale.%20Every%20point%20of%20share%20price%20appreciation%20generates%20$9.7mm%20of%20pre-tax%20gain%20for%20the%20options%20pool.\n",
      "Conclusion\n",
      "Buy%20MGMb%20because%20it%20has%2072%25%20upside%20and%2016%25%20downside,%20a%20risk/reward%20ratio%20of%20better%20than%20four%20to%20one.%20The%20business%20has%20no%20net%20debt,%20$750mm%20of%20liquidity%20and%20a%20solid%202014E%20slate%20of%20projects%20in%20addition%20to%20profits%20from%20its%20library,%20EPIX%20and%20TV%20production.%20An%20S-1%20has%20already%20been%20submitted%20privately%20and%20management’s%20recent%20filing%20of%20a%20poison%20pill%20suggests%20takeover%20activity.%20Recall%20that%20this%20studio%20has%20traded%20hands%20numerous%20times,%20and%20that%20the%20largest%20holders%20today%20are%20hedge%20funds%20that%20would%20welcome%20the%20opportunity%20to%20report%20gains%20to%20their%20investors.\n",
      "I%20do%20not%20hold%20a%20position%20of%20employment,%20directorship,%20or%20consultancy%20with%20the%20issuer.I%20and/or%20others%20I%20advise%20hold%20a%20material%20investment%20in%20the%20issuer's%20securities.\n",
      "\n",
      "Catalyst\n",
      "\n",
      "1.%20IPO%20at%20any%20time%20and%20from%20time%20to%20time,%20given%20valid%20S-1\n",
      "2.%20Takeout%20-%20given%20smaller%20size%20relative%20to%20major%20studios%20and%20recent%20adoption%20of%20poison%20pill\n",
      "3.%20Release%20of%20the%20'The%20Hobbit%20part%20two'%20and%20Stephen%20King's%20'Carrie'%20in%204Q13,%20respectively.' with link or location/anchor > 255 characters since it exceeds Excel's limit for URLS\n",
      "  force_unicode(url))\n"
     ]
    }
   ],
   "source": [
    "data.to_excel('../assets/Preprocessed Data.xlsx')"
   ]
  }
 ],
 "metadata": {
  "kernelspec": {
   "display_name": "Python 2",
   "language": "python",
   "name": "python2"
  },
  "language_info": {
   "codemirror_mode": {
    "name": "ipython",
    "version": 2
   },
   "file_extension": ".py",
   "mimetype": "text/x-python",
   "name": "python",
   "nbconvert_exporter": "python",
   "pygments_lexer": "ipython2",
   "version": "2.7.12"
  }
 },
 "nbformat": 4,
 "nbformat_minor": 0
}
