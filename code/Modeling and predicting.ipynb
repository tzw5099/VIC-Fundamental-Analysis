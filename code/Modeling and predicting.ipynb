{
 "cells": [
  {
   "cell_type": "markdown",
   "metadata": {},
   "source": [
    "## 1. Setup"
   ]
  },
  {
   "cell_type": "markdown",
   "metadata": {},
   "source": [
    "### 1.1 Environment/Imports"
   ]
  },
  {
   "cell_type": "code",
   "execution_count": 17,
   "metadata": {
    "collapsed": false
   },
   "outputs": [],
   "source": [
    "import pandas as pd\n",
    "import seaborn as sns\n",
    "import numpy as np\n",
    "import matplotlib.pyplot as plt\n",
    "%matplotlib inline\n",
    "from datetime import datetime\n",
    "\n",
    "from sklearn.feature_extraction.text import CountVectorizer, TfidfVectorizer\n",
    "from sklearn.ensemble import RandomForestClassifier, GradientBoostingClassifier\n",
    "from sklearn.naive_bayes import MultinomialNB\n",
    "from scipy.sparse import hstack\n",
    "from sklearn.model_selection import cross_val_score, cross_val_predict, train_test_split, GridSearchCV\n",
    "from sklearn.pipeline import Pipeline\n",
    "from sklearn.metrics import confusion_matrix\n",
    "from sklearn.metrics import classification_report"
   ]
  },
  {
   "cell_type": "markdown",
   "metadata": {},
   "source": [
    "### 1.2 Read in data"
   ]
  },
  {
   "cell_type": "code",
   "execution_count": 2,
   "metadata": {
    "collapsed": false
   },
   "outputs": [
    {
     "data": {
      "text/html": [
       "<div>\n",
       "<table border=\"1\" class=\"dataframe\">\n",
       "  <thead>\n",
       "    <tr style=\"text-align: right;\">\n",
       "      <th></th>\n",
       "      <th>Author</th>\n",
       "      <th>Description</th>\n",
       "      <th>Long</th>\n",
       "      <th>Performance</th>\n",
       "      <th>Quality</th>\n",
       "      <th>Submission Date</th>\n",
       "      <th>Rating Date</th>\n",
       "      <th>One Year Date</th>\n",
       "      <th>Ticker</th>\n",
       "      <th>FDS Ticker</th>\n",
       "      <th>...</th>\n",
       "      <th>logPE</th>\n",
       "      <th>logPsales</th>\n",
       "      <th>logPFCF</th>\n",
       "      <th>logMKT</th>\n",
       "      <th>logEV</th>\n",
       "      <th>logROIC</th>\n",
       "      <th>MKT_category</th>\n",
       "      <th>Sentiment_polarity</th>\n",
       "      <th>Sentiment_subjectivity</th>\n",
       "      <th>Outperformed</th>\n",
       "    </tr>\n",
       "  </thead>\n",
       "  <tbody>\n",
       "    <tr>\n",
       "      <th>1</th>\n",
       "      <td>Den1200</td>\n",
       "      <td>the purchase of BRK (and shorting out downsid...</td>\n",
       "      <td>True</td>\n",
       "      <td>3.9</td>\n",
       "      <td>2.6</td>\n",
       "      <td>2016-08-23</td>\n",
       "      <td>2016-09-06</td>\n",
       "      <td>2017-09-06</td>\n",
       "      <td>BRK.A</td>\n",
       "      <td>BRK.B</td>\n",
       "      <td>...</td>\n",
       "      <td>2.639003</td>\n",
       "      <td>0.489930</td>\n",
       "      <td>3.017299</td>\n",
       "      <td>12.813473</td>\n",
       "      <td>12.896157</td>\n",
       "      <td>1.999010</td>\n",
       "      <td>Large Cap</td>\n",
       "      <td>0.120324</td>\n",
       "      <td>0.429861</td>\n",
       "      <td>1</td>\n",
       "    </tr>\n",
       "    <tr>\n",
       "      <th>1</th>\n",
       "      <td>piggybanker</td>\n",
       "      <td>that the stock of 1-800-Flowers.com, Inc (FLW...</td>\n",
       "      <td>True</td>\n",
       "      <td>4.3</td>\n",
       "      <td>4.0</td>\n",
       "      <td>2013-10-16</td>\n",
       "      <td>2013-10-30</td>\n",
       "      <td>2014-10-30</td>\n",
       "      <td>FLWS</td>\n",
       "      <td>FLWS</td>\n",
       "      <td>...</td>\n",
       "      <td>3.228965</td>\n",
       "      <td>-0.793357</td>\n",
       "      <td>4.770579</td>\n",
       "      <td>4.949525</td>\n",
       "      <td>5.995618</td>\n",
       "      <td>2.256795</td>\n",
       "      <td>Small Cap</td>\n",
       "      <td>0.131239</td>\n",
       "      <td>0.502589</td>\n",
       "      <td>1</td>\n",
       "    </tr>\n",
       "    <tr>\n",
       "      <th>2</th>\n",
       "      <td>shoon1022</td>\n",
       "      <td>FLWS has an enterprise value of $215mm, but I...</td>\n",
       "      <td>True</td>\n",
       "      <td>3.4</td>\n",
       "      <td>3.8</td>\n",
       "      <td>2011-02-20</td>\n",
       "      <td>2011-03-06</td>\n",
       "      <td>2012-03-05</td>\n",
       "      <td>FLWS</td>\n",
       "      <td>FLWS</td>\n",
       "      <td>...</td>\n",
       "      <td>0.000000</td>\n",
       "      <td>-1.316094</td>\n",
       "      <td>0.000000</td>\n",
       "      <td>4.330223</td>\n",
       "      <td>5.381191</td>\n",
       "      <td>0.000000</td>\n",
       "      <td>Small Cap</td>\n",
       "      <td>0.103768</td>\n",
       "      <td>0.380808</td>\n",
       "      <td>0</td>\n",
       "    </tr>\n",
       "    <tr>\n",
       "      <th>3</th>\n",
       "      <td>xds68</td>\n",
       "      <td>2017\\n \\nRecommending Seaboard\\nSeaboard is a ...</td>\n",
       "      <td>True</td>\n",
       "      <td>0.0</td>\n",
       "      <td>0.0</td>\n",
       "      <td>2016-08-23</td>\n",
       "      <td>2016-09-06</td>\n",
       "      <td>2017-09-06</td>\n",
       "      <td>SEB</td>\n",
       "      <td>SEB</td>\n",
       "      <td>...</td>\n",
       "      <td>2.635309</td>\n",
       "      <td>-0.474458</td>\n",
       "      <td>2.675116</td>\n",
       "      <td>8.234805</td>\n",
       "      <td>8.042525</td>\n",
       "      <td>2.034737</td>\n",
       "      <td>Medium Cap</td>\n",
       "      <td>0.063402</td>\n",
       "      <td>0.422381</td>\n",
       "      <td>1</td>\n",
       "    </tr>\n",
       "    <tr>\n",
       "      <th>3</th>\n",
       "      <td>u0422811</td>\n",
       "      <td>is pretty simple.   Unfortunately due to its s...</td>\n",
       "      <td>False</td>\n",
       "      <td>5.2</td>\n",
       "      <td>4.9</td>\n",
       "      <td>2016-02-15</td>\n",
       "      <td>2016-02-29</td>\n",
       "      <td>2017-02-28</td>\n",
       "      <td>1PG</td>\n",
       "      <td>1PG-AU</td>\n",
       "      <td>...</td>\n",
       "      <td>0.000000</td>\n",
       "      <td>0.000000</td>\n",
       "      <td>0.000000</td>\n",
       "      <td>5.889505</td>\n",
       "      <td>5.603921</td>\n",
       "      <td>0.000000</td>\n",
       "      <td>Small Cap</td>\n",
       "      <td>0.121530</td>\n",
       "      <td>0.490904</td>\n",
       "      <td>0</td>\n",
       "    </tr>\n",
       "  </tbody>\n",
       "</table>\n",
       "<p>5 rows × 39 columns</p>\n",
       "</div>"
      ],
      "text/plain": [
       "        Author                                        Description   Long  \\\n",
       "1      Den1200   the purchase of BRK (and shorting out downsid...   True   \n",
       "1  piggybanker   that the stock of 1-800-Flowers.com, Inc (FLW...   True   \n",
       "2    shoon1022   FLWS has an enterprise value of $215mm, but I...   True   \n",
       "3        xds68  2017\\n \\nRecommending Seaboard\\nSeaboard is a ...   True   \n",
       "3     u0422811  is pretty simple.   Unfortunately due to its s...  False   \n",
       "\n",
       "   Performance  Quality Submission Date Rating Date One Year Date Ticker  \\\n",
       "1          3.9      2.6      2016-08-23  2016-09-06    2017-09-06  BRK.A   \n",
       "1          4.3      4.0      2013-10-16  2013-10-30    2014-10-30   FLWS   \n",
       "2          3.4      3.8      2011-02-20  2011-03-06    2012-03-05   FLWS   \n",
       "3          0.0      0.0      2016-08-23  2016-09-06    2017-09-06    SEB   \n",
       "3          5.2      4.9      2016-02-15  2016-02-29    2017-02-28    1PG   \n",
       "\n",
       "  FDS Ticker      ...          logPE  logPsales   logPFCF     logMKT  \\\n",
       "1      BRK.B      ...       2.639003   0.489930  3.017299  12.813473   \n",
       "1       FLWS      ...       3.228965  -0.793357  4.770579   4.949525   \n",
       "2       FLWS      ...       0.000000  -1.316094  0.000000   4.330223   \n",
       "3        SEB      ...       2.635309  -0.474458  2.675116   8.234805   \n",
       "3     1PG-AU      ...       0.000000   0.000000  0.000000   5.889505   \n",
       "\n",
       "       logEV   logROIC MKT_category  Sentiment_polarity  \\\n",
       "1  12.896157  1.999010    Large Cap            0.120324   \n",
       "1   5.995618  2.256795    Small Cap            0.131239   \n",
       "2   5.381191  0.000000    Small Cap            0.103768   \n",
       "3   8.042525  2.034737   Medium Cap            0.063402   \n",
       "3   5.603921  0.000000    Small Cap            0.121530   \n",
       "\n",
       "   Sentiment_subjectivity  Outperformed  \n",
       "1                0.429861             1  \n",
       "1                0.502589             1  \n",
       "2                0.380808             0  \n",
       "3                0.422381             1  \n",
       "3                0.490904             0  \n",
       "\n",
       "[5 rows x 39 columns]"
      ]
     },
     "execution_count": 2,
     "metadata": {},
     "output_type": "execute_result"
    }
   ],
   "source": [
    "dbase = '../assets/Preprocessed Data.xlsx'\n",
    "data = pd.read_excel(dbase, sheet='Sheet1')\n",
    "\n",
    "data.head()"
   ]
  },
  {
   "cell_type": "markdown",
   "metadata": {},
   "source": [
    "### 1.3 Separate into long/short datasets"
   ]
  },
  {
   "cell_type": "code",
   "execution_count": 3,
   "metadata": {
    "collapsed": true
   },
   "outputs": [],
   "source": [
    "data_long = data[data['Long'] == True]\n",
    "data_short = data[data['Long'] == False]\n",
    "\n",
    "data_long = data_long[data_long['One Year Date']< datetime.now()]\n",
    "data_short = data_short[data_short['One Year Date']< datetime.now()]\n",
    "\n",
    "data_long = data_long[data_long['Outperformance'].notnull()]\n",
    "data_short = data_short[data_short['Outperformance'].notnull()]"
   ]
  },
  {
   "cell_type": "markdown",
   "metadata": {},
   "source": [
    "## 2. Random Forest Modeling and scoring"
   ]
  },
  {
   "cell_type": "markdown",
   "metadata": {},
   "source": [
    "### 2.1 Set target"
   ]
  },
  {
   "cell_type": "code",
   "execution_count": 4,
   "metadata": {
    "collapsed": true
   },
   "outputs": [],
   "source": [
    "y = data_long['Outperformed']\n",
    "descriptions = data_long['WordNet Desc']"
   ]
  },
  {
   "cell_type": "markdown",
   "metadata": {},
   "source": [
    "### 2.2 Count Vectorizer"
   ]
  },
  {
   "cell_type": "code",
   "execution_count": 11,
   "metadata": {
    "collapsed": true
   },
   "outputs": [],
   "source": [
    "vectorizer = CountVectorizer(max_features = 2000, \n",
    "                             ngram_range=(2, 3), \n",
    "                             stop_words='english',\n",
    "                             binary=False)\n",
    "\n",
    "# Use 'fit' to learn the vocabulary of the titles\n",
    "vectorizer.fit(descriptions)\n",
    "\n",
    "# Use 'tranform' to generate the sample X word matrix - one column per feature (word or n-grams)\n",
    "Count_Vectorizer_X = vectorizer.transform(descriptions)"
   ]
  },
  {
   "cell_type": "code",
   "execution_count": 12,
   "metadata": {
    "collapsed": false
   },
   "outputs": [
    {
     "name": "stdout",
     "output_type": "stream",
     "text": [
      "CV AUC [ 0.54471484  0.53952096  0.55819874], Average AUC 0.547478183498\n"
     ]
    },
    {
     "data": {
      "text/html": [
       "<div>\n",
       "<table border=\"1\" class=\"dataframe\">\n",
       "  <thead>\n",
       "    <tr style=\"text-align: right;\">\n",
       "      <th></th>\n",
       "      <th>Features</th>\n",
       "      <th>Importance Score</th>\n",
       "    </tr>\n",
       "  </thead>\n",
       "  <tbody>\n",
       "    <tr>\n",
       "      <th>499</th>\n",
       "      <td>cash flow</td>\n",
       "      <td>0.003897</td>\n",
       "    </tr>\n",
       "    <tr>\n",
       "      <th>1169</th>\n",
       "      <td>long term</td>\n",
       "      <td>0.002713</td>\n",
       "    </tr>\n",
       "    <tr>\n",
       "      <th>1255</th>\n",
       "      <td>market cap</td>\n",
       "      <td>0.002675</td>\n",
       "    </tr>\n",
       "    <tr>\n",
       "      <th>866</th>\n",
       "      <td>ev ebitda</td>\n",
       "      <td>0.002650</td>\n",
       "    </tr>\n",
       "    <tr>\n",
       "      <th>929</th>\n",
       "      <td>free cash flow</td>\n",
       "      <td>0.002637</td>\n",
       "    </tr>\n",
       "  </tbody>\n",
       "</table>\n",
       "</div>"
      ],
      "text/plain": [
       "            Features  Importance Score\n",
       "499        cash flow          0.003897\n",
       "1169       long term          0.002713\n",
       "1255      market cap          0.002675\n",
       "866        ev ebitda          0.002650\n",
       "929   free cash flow          0.002637"
      ]
     },
     "execution_count": 12,
     "metadata": {},
     "output_type": "execute_result"
    }
   ],
   "source": [
    "model = RandomForestClassifier(n_estimators = 300)\n",
    "scores = cross_val_score(model, Count_Vectorizer_X, y, scoring='roc_auc')\n",
    "print ('CV AUC {}, Average AUC {}'.format(scores, scores.mean()))\n",
    "\n",
    "# What features of these are most important?\n",
    "model.fit(Count_Vectorizer_X, y)\n",
    "\n",
    "all_feature_names = vectorizer.get_feature_names()\n",
    "feature_importances = pd.DataFrame({'Features' : all_feature_names, 'Importance Score': model.feature_importances_})\n",
    "feature_importances.sort_values('Importance Score', ascending=False).head()"
   ]
  },
  {
   "cell_type": "markdown",
   "metadata": {},
   "source": [
    "### 2.3 TF-IDF"
   ]
  },
  {
   "cell_type": "code",
   "execution_count": 13,
   "metadata": {
    "collapsed": false
   },
   "outputs": [],
   "source": [
    "#trying tf-idf\n",
    "vectorizer = TfidfVectorizer(ngram_range=(2, 3), \n",
    "                             stop_words='english',\n",
    "                             max_features = 3000)\n",
    "\n",
    "#use 'fit' to learn the vocabulary\n",
    "vectorizer.fit(descriptions)\n",
    "\n",
    "#use 'tranform' to generate the sample X word matrix\n",
    "TFIDF_X = vectorizer.transform(descriptions)#.toarray()"
   ]
  },
  {
   "cell_type": "code",
   "execution_count": 14,
   "metadata": {
    "collapsed": false
   },
   "outputs": [
    {
     "name": "stdout",
     "output_type": "stream",
     "text": [
      "CV AUC [ 0.5512145   0.57313706  0.57417399], Average AUC 0.566175181805\n"
     ]
    },
    {
     "data": {
      "text/html": [
       "<div>\n",
       "<table border=\"1\" class=\"dataframe\">\n",
       "  <thead>\n",
       "    <tr style=\"text-align: right;\">\n",
       "      <th></th>\n",
       "      <th>Features</th>\n",
       "      <th>Importance Score</th>\n",
       "    </tr>\n",
       "  </thead>\n",
       "  <tbody>\n",
       "    <tr>\n",
       "      <th>757</th>\n",
       "      <td>cash flow</td>\n",
       "      <td>0.003604</td>\n",
       "    </tr>\n",
       "    <tr>\n",
       "      <th>2548</th>\n",
       "      <td>share price</td>\n",
       "      <td>0.002309</td>\n",
       "    </tr>\n",
       "    <tr>\n",
       "      <th>1371</th>\n",
       "      <td>free cash</td>\n",
       "      <td>0.002290</td>\n",
       "    </tr>\n",
       "    <tr>\n",
       "      <th>1372</th>\n",
       "      <td>free cash flow</td>\n",
       "      <td>0.002284</td>\n",
       "    </tr>\n",
       "    <tr>\n",
       "      <th>586</th>\n",
       "      <td>balance sheet</td>\n",
       "      <td>0.002220</td>\n",
       "    </tr>\n",
       "  </tbody>\n",
       "</table>\n",
       "</div>"
      ],
      "text/plain": [
       "            Features  Importance Score\n",
       "757        cash flow          0.003604\n",
       "2548     share price          0.002309\n",
       "1371       free cash          0.002290\n",
       "1372  free cash flow          0.002284\n",
       "586    balance sheet          0.002220"
      ]
     },
     "execution_count": 14,
     "metadata": {},
     "output_type": "execute_result"
    }
   ],
   "source": [
    "model = RandomForestClassifier(n_estimators = 300)\n",
    "scores = cross_val_score(model, TFIDF_X, y, scoring='roc_auc')\n",
    "print ('CV AUC {}, Average AUC {}'.format(scores, scores.mean()))\n",
    "\n",
    "# What features of these are most important?\n",
    "model.fit(TFIDF_X, y)\n",
    "\n",
    "all_feature_names = vectorizer.get_feature_names()\n",
    "feature_importances = pd.DataFrame({'Features' : all_feature_names, 'Importance Score': model.feature_importances_})\n",
    "feature_importances.sort_values('Importance Score', ascending=False).head()"
   ]
  },
  {
   "cell_type": "markdown",
   "metadata": {},
   "source": [
    "### 2.4 Add other features to TF-IDF"
   ]
  },
  {
   "cell_type": "code",
   "execution_count": 9,
   "metadata": {
    "collapsed": false
   },
   "outputs": [],
   "source": [
    "# Identify the features wanted from the original dataset\n",
    "other_features_columns = ['Quality','logMKT','logEV','Performance','logPE','logPFCF','logPsales','Sentiment_subjectivity','Sentiment_polarity']\n",
    "other_features = data_long[other_features_columns]\n",
    "\n",
    "# Stack them horizontally together\n",
    "# This takes all of the word/n-gram columns and appends on more columns\n",
    "from scipy.sparse import hstack\n",
    "X = hstack((TFIDF_X, other_features))#.toarray()"
   ]
  },
  {
   "cell_type": "code",
   "execution_count": 15,
   "metadata": {
    "collapsed": false
   },
   "outputs": [
    {
     "name": "stdout",
     "output_type": "stream",
     "text": [
      "CV AUC [ 0.56297091  0.56302661  0.56894143], Average AUC 0.564979650326\n"
     ]
    }
   ],
   "source": [
    "model = RandomForestClassifier(n_estimators = 300)\n",
    "scores = cross_val_score(model, X, y, scoring='roc_auc')\n",
    "print ('CV AUC {}, Average AUC {}'.format(scores, scores.mean()))"
   ]
  },
  {
   "cell_type": "markdown",
   "metadata": {},
   "source": [
    "### 2.5 Parameter Tuning, GridSearchCV "
   ]
  },
  {
   "cell_type": "code",
   "execution_count": 6,
   "metadata": {
    "collapsed": false
   },
   "outputs": [
    {
     "name": "stdout",
     "output_type": "stream",
     "text": [
      "Fitting 3 folds for each of 24 candidates, totalling 72 fits\n"
     ]
    },
    {
     "name": "stderr",
     "output_type": "stream",
     "text": [
      "[Parallel(n_jobs=-1)]: Done  42 tasks      | elapsed: 21.9min\n",
      "[Parallel(n_jobs=-1)]: Done  72 out of  72 | elapsed: 35.7min finished\n"
     ]
    },
    {
     "data": {
      "text/plain": [
       "GridSearchCV(cv=None, error_score='raise',\n",
       "       estimator=Pipeline(steps=[('tfidf', TfidfVectorizer(analyzer=u'word', binary=False, decode_error=u'strict',\n",
       "        dtype=<type 'numpy.int64'>, encoding=u'utf-8', input=u'content',\n",
       "        lowercase=True, max_df=1.0, max_features=None, min_df=1,\n",
       "        ngram_range=(1, 1), norm=u'l2', preprocessor=None, smooth_idf=Tru...imators=10, n_jobs=1, oob_score=False, random_state=None,\n",
       "            verbose=0, warm_start=False))]),\n",
       "       fit_params={}, iid=True, n_jobs=-1,\n",
       "       param_grid={'model__min_samples_leaf': (1, 50), 'tfidf__max_features': (2000, 3000, 4000), 'model__n_estimators': (200, 300), 'tfidf__ngram_range': ((2, 3), (1, 3))},\n",
       "       pre_dispatch='2*n_jobs', refit=True, return_train_score=True,\n",
       "       scoring=None, verbose=1)"
      ]
     },
     "execution_count": 6,
     "metadata": {},
     "output_type": "execute_result"
    }
   ],
   "source": [
    "pipeline = Pipeline([\n",
    "        ('tfidf',TfidfVectorizer()),\n",
    "        ('model',RandomForestClassifier()),\n",
    "    ])\n",
    "\n",
    "parameters = {\n",
    "    'tfidf__ngram_range':((2,3),(1,3)),\n",
    "    'tfidf__max_features':(2000,3000,4000),\n",
    "    'model__n_estimators':(200,300),\n",
    "    'model__min_samples_leaf':(1,50)\n",
    "}\n",
    "\n",
    "grid_search = GridSearchCV(pipeline, parameters, n_jobs = -1, verbose=1)\n",
    "grid_search.fit(descriptions, y)\n",
    "\n",
    "print \"The best score received was: {}\".format(grid_search.best_score_)\n",
    "print \"The parameters used were: {}\".format(grid_search.best_params_)"
   ]
  },
  {
   "cell_type": "code",
   "execution_count": 6,
   "metadata": {
    "collapsed": false
   },
   "outputs": [
    {
     "name": "stdout",
     "output_type": "stream",
     "text": [
      "Fitting 3 folds for each of 16 candidates, totalling 48 fits\n"
     ]
    },
    {
     "name": "stderr",
     "output_type": "stream",
     "text": [
      "[Parallel(n_jobs=-1)]: Done  33 tasks      | elapsed: 76.7min\n",
      "[Parallel(n_jobs=-1)]: Done  48 out of  48 | elapsed: 154.7min finished\n"
     ]
    },
    {
     "name": "stdout",
     "output_type": "stream",
     "text": [
      "The best score received was: 0.577077747989\n",
      "The parameters used were: {'model__min_samples_leaf': 1, 'model__max_features': 'auto', 'tfidf__max_features': 4000, 'model__n_estimators': 400}\n"
     ]
    }
   ],
   "source": [
    "pipeline = Pipeline([\n",
    "        ('tfidf',TfidfVectorizer(ngram_range=(1,3))),\n",
    "        ('model',RandomForestClassifier()),\n",
    "    ])\n",
    "\n",
    "parameters = {\n",
    "    'tfidf__max_features':(4000,5000),\n",
    "    'model__n_estimators':(300,400),\n",
    "    'model__min_samples_leaf':(1,3),\n",
    "    'model__max_features':('auto',None)\n",
    "}\n",
    "\n",
    "grid_search = GridSearchCV(pipeline, parameters, n_jobs = -1, verbose=2)\n",
    "grid_search.fit(descriptions, y)\n",
    "\n",
    "print \"The best score received was: {}\".format(grid_search.best_score_)\n",
    "print \"The parameters used were: {}\".format(grid_search.best_params_)"
   ]
  },
  {
   "cell_type": "markdown",
   "metadata": {},
   "source": [
    "## 3. Random Forest Predicting"
   ]
  },
  {
   "cell_type": "markdown",
   "metadata": {},
   "source": [
    "### 3.1 Setup to use tuned parameters"
   ]
  },
  {
   "cell_type": "code",
   "execution_count": 5,
   "metadata": {
    "collapsed": false
   },
   "outputs": [],
   "source": [
    "vectorizer = TfidfVectorizer(ngram_range=(1, 3), \n",
    "                             stop_words='english',\n",
    "                             max_features = 4000)\n",
    "\n",
    "vectorizer.fit(descriptions)\n",
    "TFIDF_X = vectorizer.transform(descriptions)#.toarray()\n",
    "\n",
    "# Identify the features wanted from the original dataset\n",
    "other_features_columns = ['Quality','logMKT','logEV','Performance','logPE','logPFCF','logPsales','Sentiment_subjectivity','Sentiment_polarity']\n",
    "other_features = data_long[other_features_columns]\n",
    "\n",
    "# Stack them horizontally together\n",
    "# This takes all of the word/n-gram columns and appends on more columns\n",
    "from scipy.sparse import hstack\n",
    "X = hstack((TFIDF_X, other_features))#.toarray()\n",
    "\n",
    "model = RandomForestClassifier(n_estimators = 400)"
   ]
  },
  {
   "cell_type": "markdown",
   "metadata": {},
   "source": [
    "### 3.2 Define prediction process"
   ]
  },
  {
   "cell_type": "code",
   "execution_count": 12,
   "metadata": {
    "collapsed": true
   },
   "outputs": [],
   "source": [
    "def show_prediction_results(model, X, y, cv):\n",
    "    predict_y = cross_val_predict(model, X, y, cv = cv)\n",
    "    data_long['Predicted'] = predict_y\n",
    "    data_predicted = data_long[data_long['Predicted']==1]\n",
    "    \n",
    "    print classification_report(y, predict_y)\n",
    "    print\n",
    "    print \"Long write-ups average outperformance from model: {0:.2f}%\".format(data_predicted['Outperformance'].mean()*100)\n",
    "    print \"Long write-ups average outperformance from website: {0:.2f}%\".format(data_long['Outperformance'].mean()*100)\n",
    "    print\n",
    "    print 'Number of predicted Long write-ups is: {}'.format(len(data_predicted))\n",
    "    print 'Number of original Long write-ups is: {}'.format(len(data_long))\n",
    "    \n",
    "    # Plot return distributions\n",
    "    plt.figure()\n",
    "    sns.distplot(data_long['Outperformance'],color='blue',label='All Long Ideas')\n",
    "    sns.distplot(data_predicted['Outperformance'],color='red',label='Predicted Succesful Ideas')\n",
    "    sns.plt.xlim(-2,4)\n",
    "    sns.plt.legend()\n",
    "    \n",
    "    # Plot picks and performance over time\n",
    "    timed_long = data_long[['One Year Date','Year Return','Year Index Return','Outperformance']].groupby('One Year Date').agg([np.mean,np.std,len]).reset_index()\n",
    "    timed_predicted = data_predicted[['One Year Date','Year Return','Year Index Return','Outperformance']].groupby('One Year Date').agg([np.mean,np.std,len]).reset_index()\n",
    "    date = timed_long['One Year Date']\n",
    "    predicted_date = timed_predicted['One Year Date']\n",
    "\n",
    "    performance_mean = np.array(timed_long['Year Return']['mean'])\n",
    "    predicted_performance_mean = timed_predicted['Year Return']['mean']\n",
    "\n",
    "    plt.figure()\n",
    "    plt.title('Individual Absolute Stock Performance')\n",
    "    plt.plot(date, performance_mean, '.', color = 'blue')\n",
    "    plt.plot(predicted_date, predicted_performance_mean, '.', color = 'red')\n",
    "    plt.xlabel('Date')\n",
    "    plt.ylabel('Performance (one year returns)')\n",
    "    plt.legend(['All long ideas', 'Predicted ideas'],loc='best',markerscale = 2) \n",
    "    \n",
    "    # Show confusion matrix\n",
    "    cm = confusion_matrix(y, predict_y)\n",
    "    np.set_printoptions(precision=2)\n",
    "    print\n",
    "    print('Confusion matrix, without normalization')\n",
    "    print(cm)\n",
    "\n",
    "    # Normalize the confusion matrix by row\n",
    "    cm_normalized = cm.astype('float') / cm.sum(axis=1)[:, np.newaxis]\n",
    "    print\n",
    "    print('Normalized confusion matrix')\n",
    "    print(cm_normalized)\n",
    "    \n",
    "    # Plot the confusion matrix\n",
    "    def plot_confusion_matrix(cm, title='Confusion matrix', cmap=plt.cm.Blues):\n",
    "        plt.figure()\n",
    "        plt.imshow(cm, interpolation='nearest', cmap=cmap)\n",
    "        plt.title(title)\n",
    "        plt.colorbar()\n",
    "        plt.xticks([0,1], rotation=45)\n",
    "        plt.yticks([0,1])\n",
    "        plt.tight_layout()\n",
    "        plt.ylabel('True label')\n",
    "        plt.xlabel('Predicted label')\n",
    "\n",
    "\n",
    "    # Compute confusion matrix\n",
    "    plot_confusion_matrix(cm_normalized) \n",
    "    \n",
    "    return"
   ]
  },
  {
   "cell_type": "markdown",
   "metadata": {},
   "source": [
    "### 3.3 RF prediction w/ all features"
   ]
  },
  {
   "cell_type": "code",
   "execution_count": 14,
   "metadata": {
    "collapsed": false
   },
   "outputs": [
    {
     "name": "stdout",
     "output_type": "stream",
     "text": [
      "             precision    recall  f1-score   support\n",
      "\n",
      "          0       0.58      0.91      0.71      2564\n",
      "          1       0.52      0.13      0.21      1912\n",
      "\n",
      "avg / total       0.56      0.58      0.50      4476\n",
      "\n",
      "\n",
      "Long write-ups average outperformance from model: 11.33%\n",
      "Long write-ups average outperformance from website: 0.80%\n",
      "\n",
      "Number of predicted Long write-ups is: 488\n",
      "Number of original Long write-ups is: 4476\n",
      "\n",
      "Confusion matrix, without normalization\n",
      "[[2329  235]\n",
      " [1659  253]]\n",
      "\n",
      "Normalized confusion matrix\n",
      "[[ 0.91  0.09]\n",
      " [ 0.87  0.13]]\n"
     ]
    },
    {
     "data": {
      "image/png": "[encoded data removed]",
      "text/plain": [
       "<matplotlib.figure.Figure at 0x4bfa58d0>"
      ]
     },
     "metadata": {},
     "output_type": "display_data"
    },
    {
     "data": {
      "image/png": "[encoded data removed]",
      "text/plain": [
       "<matplotlib.figure.Figure at 0x4bfbd2b0>"
      ]
     },
     "metadata": {},
     "output_type": "display_data"
    },
    {
     "data": {
      "image/png": "[encoded data removed]",
      "text/plain": [
       "<matplotlib.figure.Figure at 0x71837b38>"
      ]
     },
     "metadata": {},
     "output_type": "display_data"
    }
   ],
   "source": [
    "show_prediction_results(model, X, y, cv = 3)"
   ]
  },
  {
   "cell_type": "markdown",
   "metadata": {},
   "source": [
    "### 3.4 RF prediction w/ text features only"
   ]
  },
  {
   "cell_type": "code",
   "execution_count": 15,
   "metadata": {
    "collapsed": false
   },
   "outputs": [
    {
     "name": "stdout",
     "output_type": "stream",
     "text": [
      "             precision    recall  f1-score   support\n",
      "\n",
      "          0       0.59      0.92      0.71      2564\n",
      "          1       0.54      0.13      0.21      1912\n",
      "\n",
      "avg / total       0.57      0.58      0.50      4476\n",
      "\n",
      "\n",
      "Long write-ups average outperformance from model: 11.07%\n",
      "Long write-ups average outperformance from website: 0.80%\n",
      "\n",
      "Number of predicted Long write-ups is: 464\n",
      "Number of original Long write-ups is: 4476\n",
      "\n",
      "Confusion matrix, without normalization\n",
      "[[2350  214]\n",
      " [1662  250]]\n",
      "\n",
      "Normalized confusion matrix\n",
      "[[ 0.92  0.08]\n",
      " [ 0.87  0.13]]\n"
     ]
    },
    {
     "data": {
      "image/png": "[encoded data removed]",
      "text/plain": [
       "<matplotlib.figure.Figure at 0x6e567c88>"
      ]
     },
     "metadata": {},
     "output_type": "display_data"
    },
    {
     "data": {
      "image/png": "[encoded data removed]",
      "text/plain": [
       "<matplotlib.figure.Figure at 0x839ab3c8>"
      ]
     },
     "metadata": {},
     "output_type": "display_data"
    },
    {
     "data": {
      "image/png": "[encoded data removed]",
      "text/plain": [
       "<matplotlib.figure.Figure at 0x4b438b70>"
      ]
     },
     "metadata": {},
     "output_type": "display_data"
    }
   ],
   "source": [
    "show_prediction_results(model, TFIDF_X, y, cv = 3)"
   ]
  },
  {
   "cell_type": "markdown",
   "metadata": {},
   "source": [
    "## 4. Other classifier (MultinomialNB, GradientBoosting) modeling and scoring"
   ]
  },
  {
   "cell_type": "code",
   "execution_count": 39,
   "metadata": {
    "collapsed": false
   },
   "outputs": [
    {
     "name": "stdout",
     "output_type": "stream",
     "text": [
      "CV AUC [ 0.57  0.57  0.57], Average AUC 0.570619780905\n"
     ]
    }
   ],
   "source": [
    "multinb = MultinomialNB()\n",
    "scores = cross_val_score(multinb, TFIDF_X, y, scoring='roc_auc')\n",
    "print ('CV AUC {}, Average AUC {}'.format(scores, scores.mean()))"
   ]
  },
  {
   "cell_type": "code",
   "execution_count": 37,
   "metadata": {
    "collapsed": false
   },
   "outputs": [
    {
     "name": "stdout",
     "output_type": "stream",
     "text": [
      "CV AUC [ 0.55  0.51  0.52], Average AUC 0.529478584961\n"
     ]
    }
   ],
   "source": [
    "gradient_boost = GradientBoostingClassifier()\n",
    "scores = cross_val_score(gradient_boost, TFIDF_X.toarray(), y, scoring='roc_auc')\n",
    "print ('CV AUC {}, Average AUC {}'.format(scores, scores.mean()))"
   ]
  },
  {
   "cell_type": "code",
   "execution_count": 35,
   "metadata": {
    "collapsed": false
   },
   "outputs": [
    {
     "name": "stderr",
     "output_type": "stream",
     "text": [
      "[Parallel(n_jobs=-1)]: Done   3 out of   6 | elapsed:  3.6min remaining:  3.6min\n",
      "[Parallel(n_jobs=-1)]: Done   6 out of   6 | elapsed:  6.7min finished\n"
     ]
    },
    {
     "name": "stdout",
     "output_type": "stream",
     "text": [
      "Fitting 3 folds for each of 2 candidates, totalling 6 fits\n",
      "The best score received was: 0.548033958892\n",
      "The parameters used were: {'n_estimators': 150}\n"
     ]
    }
   ],
   "source": [
    "parameters = {\n",
    "    'n_estimators':(150,200)}\n",
    "\n",
    "grid_search = GridSearchCV(gradient_boost, parameters, n_jobs = -1, verbose=5)\n",
    "grid_search.fit(TFIDF_X.toarray(), y)\n",
    "\n",
    "print \"The best score received was: {}\".format(grid_search.best_score_)\n",
    "print \"The parameters used were: {}\".format(grid_search.best_params_)"
   ]
  }
 ],
 "metadata": {
  "kernelspec": {
   "display_name": "Python 2",
   "language": "python",
   "name": "python2"
  },
  "language_info": {
   "codemirror_mode": {
    "name": "ipython",
    "version": 2
   },
   "file_extension": ".py",
   "mimetype": "text/x-python",
   "name": "python",
   "nbconvert_exporter": "python",
   "pygments_lexer": "ipython2",
   "version": "2.7.12"
  }
 },
 "nbformat": 4,
 "nbformat_minor": 0
}
